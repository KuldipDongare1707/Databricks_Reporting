{
 "cells": [
  {
   "cell_type": "code",
   "execution_count": 0,
   "metadata": {
    "application/vnd.databricks.v1+cell": {
     "cellMetadata": {
      "byteLimit": 2048000,
      "rowLimit": 10000
     },
     "inputWidgets": {},
     "nuid": "d4641beb-c550-4897-9d53-b661a4963fba",
     "showTitle": true,
     "tableResultSettingsMap": {},
     "title": "Determine Environment and Set Database Connections"
    }
   },
   "outputs": [],
   "source": [
    "if v_env in ['prod']:\n",
    "    print(\"Production Run\")\n",
    "    v_enviornoment = 'prod'\n",
    "    v_reporting_db = 'reporting'\n",
    "    v_sample_db = 'samples'\n",
    "    v_tpch_db = 'tpch'\n",
    "\n",
    "elif v_env in ['qa']:\n",
    "    print(\"Development Run\")\n",
    "    v_enviornoment = 'qa'\n",
    "    v_reporting_db = 'reporting'\n",
    "    v_sample_db = 'samples'\n",
    "    v_tpch_db = 'tpch'\n",
    "\n",
    "else:\n",
    "    print(\"Development Run\")\n",
    "    v_enviornoment = 'dev'\n",
    "    v_reporting_db = 'reporting'\n",
    "    v_sample_db = 'samples'\n",
    "    v_tpch_db = 'tpch'"
   ]
  },
  {
   "cell_type": "code",
   "execution_count": 0,
   "metadata": {
    "application/vnd.databricks.v1+cell": {
     "cellMetadata": {
      "byteLimit": 2048000,
      "rowLimit": 10000
     },
     "inputWidgets": {},
     "nuid": "d97dfb3e-b47c-4ef0-8b91-53e09452c9a4",
     "showTitle": true,
     "tableResultSettingsMap": {},
     "title": "Fetch Household Data for Machinery Market Segment"
    }
   },
   "outputs": [],
   "source": [
    "df_mktsegmt_household = spark.sql(\"\"\"\n",
    "\n",
    "select \n",
    "c.C_CUSTKEY AS CUSTKEY ,\n",
    "c.C_NAME AS CUSTOMER_NAME,\n",
    "customer.c_address,\n",
    "customer.c_phone,\n",
    "customer.c_acctbal,\n",
    "customer.c_mktsegment,\n",
    "customer.c_comment,\n",
    "nation.n_name,\n",
    "nation.n_comment,\n",
    "region.r_name,\n",
    "region.r_comment,\n",
    "orders.o_orderkey,\n",
    "orders.o_orderstatus,\n",
    "orders.o_totalprice,\n",
    "orders.o_orderdate,\n",
    "orders.o_orderpriority,\n",
    "orders.o_clerk,\n",
    "orders.o_shippriority,\n",
    "orders.o_comment,\n",
    "lineitem.l_linenumber,\n",
    "lineitem.l_quantity,\n",
    "lineitem.l_extendedprice,\n",
    "lineitem.l_discount,\n",
    "lineitem.l_tax,\n",
    "lineitem.l_returnflag,\n",
    "lineitem.l_linestatus,\n",
    "lineitem.l_shipdate,\n",
    "lineitem.l_commitdate,\n",
    "lineitem.l_receiptdate,\n",
    "lineitem.l_shipinstruct,\n",
    "lineitem.l_shipmode,\n",
    "lineitem.l_comment,\n",
    "part.p_name,\n",
    "part.p_mfgr,\n",
    "part.p_brand,\n",
    "part.p_type,\n",
    "part.p_size,\n",
    "part.p_container,\n",
    "part.p_retailprice,\n",
    "part.p_comment,\n",
    "partsupp.ps_availqty,\n",
    "partsupp.ps_supplycost,\n",
    "partsupp.ps_comment,\n",
    "supplier.s_name,\n",
    "supplier.s_address,\n",
    "supplier.s_nationkey,\n",
    "supplier.s_phone,\n",
    "supplier.s_acctbal,\n",
    "supplier.s_comment,\n",
    "current_timestamp() AS BD_CREATE_DT_TM,\n",
    "current_timestamp() AS BD_LOAD_DT_TM\n",
    "from {v_sample_db}.{v_tpch_db}.customer c\n",
    "full join {v_sample_db}.{v_tpch_db}.nation n \n",
    "on c.c_nationkey = n.n_nationkey\n",
    "full join {v_sample_db}.{v_tpch_db}.region r \n",
    "on n.n_regionkey = region.r_regionkey\n",
    "full join {v_sample_db}.{v_tpch_db}.orders o on {v_sample_db}.{v_tpch_db}.c.c_custkey = {v_sample_db}.{v_tpch_db}.orders.o_custkey\n",
    "full join {v_sample_db}.{v_tpch_db}.lineitem lt on {v_sample_db}.{v_tpch_db}.o.o_orderkey = {v_sample_db}.{v_tpch_db}.lineitem.l_orderkey\n",
    "full join {v_sample_db}.{v_tpch_db}.part p on {v_sample_db}.{v_tpch_db}.lt.l_partkey = {v_sample_db}.{v_tpch_db}.part.p_partkey\n",
    "full join {v_sample_db}.{v_tpch_db}.partsupp ps on {v_sample_db}.{v_tpch_db}.lt.l_partkey = {v_sample_db}.{v_tpch_db}.partsupp.ps_partkey\n",
    "full join {v_sample_db}.{v_tpch_db}.supplier s on {v_sample_db}.{v_tpch_db}.lt.l_suppkey = {v_sample_db}.{v_tpch_db}.supplier.s_suppkey\n",
    "where UPPER(customer.c_mktsegment) = 'MACHINERY'\n",
    "\"\"\"\n",
    "df_mktsegmt_household.createOrReplaceTempView(\"df_mktsegmt_household\")"
   ]
  },
  {
   "cell_type": "code",
   "execution_count": 0,
   "metadata": {
    "application/vnd.databricks.v1+cell": {
     "cellMetadata": {},
     "inputWidgets": {},
     "nuid": "1e7aba8e-7520-4216-b33b-3d143cf457b6",
     "showTitle": true,
     "tableResultSettingsMap": {},
     "title": "Check and Insert New Marketing Segment Household Data"
    }
   },
   "outputs": [],
   "source": [
    "if df_mktsegmt_household.count() == 0:\n",
    "    dbutils.notebook.exit(\"No new record to insert into Marketing Segment Household\")\n",
    "else:\n",
    "    df_mktsegmt_household.write.format(\"delta\").mode(\"overwrite\").saveAsTable(f\"{v_reporting_db}.mktsegmt_household\")"
   ]
  },
  {
   "cell_type": "code",
   "execution_count": 0,
   "metadata": {
    "application/vnd.databricks.v1+cell": {
     "cellMetadata": {
      "byteLimit": 2048000,
      "rowLimit": 10000
     },
     "inputWidgets": {},
     "nuid": "c2e68cb9-1e78-41ce-b960-2f38d135c0bb",
     "showTitle": false,
     "tableResultSettingsMap": {},
     "title": ""
    }
   },
   "outputs": [],
   "source": [
    "%sql\n",
    "create or replace view reporting.mktsegment_machinery_vw as \n",
    "select * from reporting.mktsegment_household"
   ]
  },
  {
   "cell_type": "code",
   "execution_count": 0,
   "metadata": {
    "application/vnd.databricks.v1+cell": {
     "cellMetadata": {},
     "inputWidgets": {},
     "nuid": "8cadb12b-59f0-4d37-a155-c05be0842646",
     "showTitle": false,
     "tableResultSettingsMap": {},
     "title": ""
    }
   },
   "outputs": [],
   "source": [
    "Types Of Views \n",
    "\n",
    "1. System Defined View - These are views that are created by the system and cannot be altered by the user.\n",
    "sys.databases\n",
    "use Cases. - \n",
    "1. Accessing Metadata\n",
    "2. Monitoring Database Performance\n",
    "3. Security Management\n",
    "4. Auditing and Compliance\n",
    "5. Report Generation\n",
    "\n",
    "2. Information Schema View - \n",
    "INFORMATION_SCHEMA\n",
    "Use Case -\n",
    "1. Data Dictionary Queries \n",
    "2. Schema Comparison\n",
    "3. Dyanmic SQL GENERATION\n",
    "4. Database Documentation\n",
    "5. Data Profiling and Analysis\n",
    "\n",
    "3. Catalog View -  \n",
    "use Case - \n",
    "1. Schema Exploration\n",
    "2. Dependency Management/ Analysis \n",
    "3. Data Dictionary Generation \n",
    "4. Database Monitoring\n",
    "\n",
    "4.Materialized / Complex / User Defined View -\n",
    "SQL Queries\n",
    "use Case -\n",
    "1. Data Normalization\n",
    "2. Data Transformation\n",
    "3. Dynamic Data Filtering\n",
    "4. Join Optimization\n",
    "5. Reporting and Analysis\n"
   ]
  }
 ],
 "metadata": {
  "application/vnd.databricks.v1+notebook": {
   "computePreferences": null,
   "dashboards": [],
   "environmentMetadata": {
    "base_environment": "",
    "environment_version": "2"
   },
   "language": "python",
   "notebookMetadata": {
    "pythonIndentUnit": 4
   },
   "notebookName": "load_reporting_daily_mktsegment_machinery",
   "widgets": {}
  },
  "language_info": {
   "name": "python"
  }
 },
 "nbformat": 4,
 "nbformat_minor": 0
}
