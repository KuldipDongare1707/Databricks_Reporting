{
 "cells": [
  {
   "cell_type": "code",
   "execution_count": 0,
   "metadata": {
    "application/vnd.databricks.v1+cell": {
     "cellMetadata": {
      "byteLimit": 2048000,
      "rowLimit": 10000
     },
     "inputWidgets": {},
     "nuid": "d4641beb-c550-4897-9d53-b661a4963fba",
     "showTitle": false,
     "tableResultSettingsMap": {},
     "title": ""
    }
   },
   "outputs": [],
   "source": [
    "%sql\n",
    "select * from samples.tpch.orders"
   ]
  },
  {
   "cell_type": "code",
   "execution_count": 0,
   "metadata": {
    "application/vnd.databricks.v1+cell": {
     "cellMetadata": {
      "byteLimit": 2048000,
      "rowLimit": 10000
     },
     "inputWidgets": {},
     "nuid": "d97dfb3e-b47c-4ef0-8b91-53e09452c9a4",
     "showTitle": false,
     "tableResultSettingsMap": {},
     "title": ""
    }
   },
   "outputs": [],
   "source": [
    "%sql\n",
    "Insert into reporting.mktsegment_household\n",
    "select\n",
    "c_name as Customer_Name,\n",
    "c_mktsegment as Market_Segment,\n",
    "n_name as Nation_Name,\n",
    "r_name as Region_Name, \n",
    "o_orderstatus as Order_Status,\n",
    "o_totalprice as Total_Price,\n",
    "o_orderdate as Order_Date,\n",
    "o_orderpriority as Order_Priority\n",
    " from samples.tpch.customer\n",
    "full join samples.tpch.nation on samples.tpch.customer.c_nationkey = samples.tpch.nation.n_nationkey\n",
    "Full join samples.tpch.region on samples.tpch.nation.n_regionkey = samples.tpch.region.r_regionkey\n",
    "Full join samples.tpch.orders on samples.tpch.customer.c_custkey = samples.tpch.orders.o_custkey\n",
    "Full join samples.tpch.lineitem on samples.tpch.orders.o_orderkey = samples.tpch.lineitem.l_orderkey\n",
    "Full join samples.tpch.part on samples.tpch.lineitem.l_partkey = samples.tpch.part.p_partkey\n",
    "Full join samples.tpch.partsupp on samples.tpch.lineitem.l_partkey = samples.tpch.partsupp.ps_partkey\n",
    "Full join samples.tpch.supplier on samples.tpch.lineitem.l_suppkey = samples.tpch.supplier.s_suppkey\n",
    "where UPPER(c_mktsegment) = 'HOUSEHOLD' \n",
    "\n",
    "\n"
   ]
  },
  {
   "cell_type": "code",
   "execution_count": 0,
   "metadata": {
    "application/vnd.databricks.v1+cell": {
     "cellMetadata": {},
     "inputWidgets": {},
     "nuid": "7bd02ebb-ed1f-428f-bd5d-598a28794ab0",
     "showTitle": false,
     "tableResultSettingsMap": {},
     "title": ""
    }
   },
   "outputs": [],
   "source": [
    "%sql\n",
    "select * from df_mktsegmt_household \n",
    "Insert into reporting.mktsegment_household"
   ]
  }
 ],
 "metadata": {
  "application/vnd.databricks.v1+notebook": {
   "computePreferences": null,
   "dashboards": [],
   "environmentMetadata": {
    "base_environment": "",
    "environment_version": "2"
   },
   "language": "python",
   "notebookMetadata": {
    "pythonIndentUnit": 4
   },
   "notebookName": "load_reporting_daily_mktsegment_household",
   "widgets": {}
  },
  "language_info": {
   "name": "python"
  }
 },
 "nbformat": 4,
 "nbformat_minor": 0
}
