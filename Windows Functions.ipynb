{
 "cells": [
  {
   "cell_type": "code",
   "execution_count": 0,
   "metadata": {
    "application/vnd.databricks.v1+cell": {
     "cellMetadata": {
      "byteLimit": 2048000,
      "rowLimit": 10000
     },
     "inputWidgets": {},
     "nuid": "b7bda4fa-a9a1-496b-a5bf-1831059ef855",
     "showTitle": false,
     "tableResultSettingsMap": {},
     "title": ""
    }
   },
   "outputs": [],
   "source": [
    "%sql\n",
    "select * from samples.tpch.orders"
   ]
  },
  {
   "cell_type": "code",
   "execution_count": 0,
   "metadata": {
    "application/vnd.databricks.v1+cell": {
     "cellMetadata": {},
     "inputWidgets": {},
     "nuid": "28861274-ed05-4e5f-8334-7ff72b1ac4cd",
     "showTitle": false,
     "tableResultSettingsMap": {},
     "title": ""
    }
   },
   "outputs": [],
   "source": [
    "Windows Fuctions\n",
    "We Perform Calculations o data using various aggregated funnctions like sum, min , max, avg. We get single output value using these functions.\n",
    "Windows fuctions perform an aggregate operation for each row and returns result in detailed."
   ]
  },
  {
   "cell_type": "code",
   "execution_count": 0,
   "metadata": {
    "application/vnd.databricks.v1+cell": {
     "cellMetadata": {},
     "inputWidgets": {},
     "nuid": "22371ec0-b843-41e0-939d-37f9d78173f5",
     "showTitle": false,
     "tableResultSettingsMap": {},
     "title": ""
    }
   },
   "outputs": [],
   "source": [
    "List of Windows Functionns\n",
    "Over ()\n",
    "Partition ()\n",
    "\n",
    "Ranking Windows Functions\n",
    "Rank () and Dense_Rank ()\n",
    "Row_Number ()\n",
    "Ntile()\n",
    "\n",
    "Value Window Functions\n",
    "LAG() and LEAD()\n",
    "First_Value() and Last_Value()\n",
    "\n",
    "Note :\n",
    "    when we use window functions in query. we need to define window value using over() Clause.\n",
    "    \n"
   ]
  },
  {
   "cell_type": "code",
   "execution_count": 0,
   "metadata": {
    "application/vnd.databricks.v1+cell": {
     "cellMetadata": {
      "byteLimit": 2048000,
      "rowLimit": 10000
     },
     "inputWidgets": {},
     "nuid": "d38fbf2a-c06d-4bd8-91c0-d8ec6b537627",
     "showTitle": false,
     "tableResultSettingsMap": {},
     "title": ""
    }
   },
   "outputs": [],
   "source": [
    "%sql\n",
    "--OVER() Window Function\n",
    "--It is the replacement of the group by. it creates a window with multiple rows.\n",
    "\n",
    "\n",
    "select o_orderkey,\n",
    "o_orderstatus,\n",
    "SUM(o_totalprice),\n",
    "avg(o_totalprice) \n",
    "from samples.tpch.orders\n",
    "group by o_orderstatus\n",
    "\n"
   ]
  },
  {
   "cell_type": "code",
   "execution_count": 0,
   "metadata": {
    "application/vnd.databricks.v1+cell": {
     "cellMetadata": {
      "byteLimit": 2048000,
      "rowLimit": 10000
     },
     "inputWidgets": {},
     "nuid": "cb30e288-8123-4d56-beb7-e7aab74321ae",
     "showTitle": false,
     "tableResultSettingsMap": {},
     "title": ""
    }
   },
   "outputs": [],
   "source": [
    "%sql\n",
    "select o_orderstatus,\n",
    "SUM(o_totalprice) Over() as total_price,\n",
    "avg(o_totalprice) Over() as avg_price\n",
    " from samples.tpch.orders"
   ]
  },
  {
   "cell_type": "code",
   "execution_count": 0,
   "metadata": {
    "application/vnd.databricks.v1+cell": {
     "cellMetadata": {},
     "inputWidgets": {},
     "nuid": "a8c37181-f9be-401e-b31d-b8e7920a9095",
     "showTitle": false,
     "tableResultSettingsMap": {},
     "title": ""
    }
   },
   "outputs": [],
   "source": [
    "Partition by \n",
    "it is used to devide the reuslt set from the query into multiple groups or data subsets."
   ]
  },
  {
   "cell_type": "code",
   "execution_count": 0,
   "metadata": {
    "application/vnd.databricks.v1+cell": {
     "cellMetadata": {
      "byteLimit": 2048000,
      "rowLimit": 10000
     },
     "inputWidgets": {},
     "nuid": "30c7691d-bd86-451e-ac8d-95a2e96e520b",
     "showTitle": false,
     "tableResultSettingsMap": {},
     "title": ""
    }
   },
   "outputs": [],
   "source": [
    "%sql\n",
    "select o_orderstatus,\n",
    "SUM(o_totalprice) Over(partition by o_orderstatus) as total_price,\n",
    "avg(o_totalprice) Over() as avg_price\n",
    " from samples.tpch.orders"
   ]
  },
  {
   "cell_type": "code",
   "execution_count": 0,
   "metadata": {
    "application/vnd.databricks.v1+cell": {
     "cellMetadata": {},
     "inputWidgets": {},
     "nuid": "30ae0a68-e476-4d2e-8302-3b97064bf024",
     "showTitle": false,
     "tableResultSettingsMap": {},
     "title": ""
    }
   },
   "outputs": [],
   "source": [
    "Rank \n",
    "Rank function returns the unique rank nnumber for each distinct row within. the partition of the query according to a specified column value.\n",
    "Rank Function always work on Over() fuctionn with Order by. "
   ]
  },
  {
   "cell_type": "code",
   "execution_count": 0,
   "metadata": {
    "application/vnd.databricks.v1+cell": {
     "cellMetadata": {
      "byteLimit": 2048000,
      "rowLimit": 10000
     },
     "inputWidgets": {},
     "nuid": "728ecaab-ac24-4b8b-a9e7-8f0a9bf54055",
     "showTitle": false,
     "tableResultSettingsMap": {},
     "title": ""
    }
   },
   "outputs": [],
   "source": [
    "%sql\n",
    "select c_name,\n",
    "c_nationkey,\n",
    "c_acctbal,\n",
    "RANK() OVER( Order by c_acctbal desc ) as rank,\n",
    "dense_rank() OVER( Order by c_acctbal desc ) as dense_rank\n",
    "from samples.tpch.customer\n"
   ]
  },
  {
   "cell_type": "code",
   "execution_count": 0,
   "metadata": {
    "application/vnd.databricks.v1+cell": {
     "cellMetadata": {
      "byteLimit": 2048000,
      "rowLimit": 10000
     },
     "inputWidgets": {},
     "nuid": "9b4bcaaa-2b93-4c53-aaec-d3c7a5e5d7ce",
     "showTitle": false,
     "tableResultSettingsMap": {},
     "title": ""
    }
   },
   "outputs": [],
   "source": [
    "%sql\n",
    "WITH ranked_customers AS (\n",
    "    SELECT \n",
    "        c_name,\n",
    "        c_nationkey,\n",
    "        c_acctbal,\n",
    "        dense_rank() OVER (ORDER BY c_acctbal DESC) AS rank\n",
    "    FROM samples.tpch.customer\n",
    ")\n",
    "SELECT \n",
    "    c_name,\n",
    "    c_nationkey,\n",
    "    c_acctbal,\n",
    "    rank\n",
    "FROM ranked_customers\n",
    "WHERE rank = 2"
   ]
  },
  {
   "cell_type": "code",
   "execution_count": 0,
   "metadata": {
    "application/vnd.databricks.v1+cell": {
     "cellMetadata": {},
     "inputWidgets": {},
     "nuid": "9b65827f-dd94-4700-92e5-5a7bfa1de615",
     "showTitle": false,
     "tableResultSettingsMap": {},
     "title": ""
    }
   },
   "outputs": [],
   "source": [
    "Dense Rank - \n",
    "The Dense Rank function is similiar to Rank Function except for one difference.\n",
    "it doesnt skip any rank when ranking rows.\n",
    "\n",
    "Row Number - \n",
    "We use ROW_NUMBER() fuction to get a unique sequensial number for each row within a partition.\n",
    "Ntile - \n",
    "We use the Ntile(N) function to divide the rows of a result set into N buckets."
   ]
  },
  {
   "cell_type": "code",
   "execution_count": 0,
   "metadata": {
    "application/vnd.databricks.v1+cell": {
     "cellMetadata": {
      "byteLimit": 2048000,
      "rowLimit": 10000
     },
     "inputWidgets": {},
     "nuid": "cd0f675f-48ce-4fe6-9ac9-9e73c1e2f5e5",
     "showTitle": false,
     "tableResultSettingsMap": {
      "0": {
       "filterBlob": "{\"filterGroups\":[{\"enabled\":true,\"filterGroupId\":\"fg_323bdef6\",\"op\":\"OR\",\"filters\":[{\"filterId\":\"f_7155d17f\",\"enabled\":true,\"columnId\":\"c_mktsegment\",\"dataType\":\"string\",\"filterType\":\"oneof\"}],\"local\":false,\"updatedAt\":1740549954277}],\"syncTimestamp\":1740549954278}",
       "tableResultIndex": 0
      }
     },
     "title": ""
    }
   },
   "outputs": [],
   "source": [
    "%sql\n",
    "select\n",
    "c_nationkey,\n",
    "c_mktsegment,\n",
    "c_acctbal,\n",
    "row_number() OVER( partition by  c_mktsegment order by c_acctbal asc ) as Row_Number\n",
    "from samples.tpch.customer"
   ]
  },
  {
   "cell_type": "code",
   "execution_count": 0,
   "metadata": {
    "application/vnd.databricks.v1+cell": {
     "cellMetadata": {
      "byteLimit": 2048000,
      "rowLimit": 10000
     },
     "inputWidgets": {},
     "nuid": "942fcee5-ca9e-41b5-b6c4-fe3c127c3d5c",
     "showTitle": false,
     "tableResultSettingsMap": {},
     "title": ""
    }
   },
   "outputs": [],
   "source": [
    "%sql\n",
    "select\n",
    "c_nationkey,\n",
    "c_mktsegment,\n",
    "c_acctbal,\n",
    "ntile(250) Over (order by c_acctbal desc) as Ntile\n",
    "from samples.tpch.customer\n",
    "where ntile(250) Over (order by c_acctbal desc) = 2"
   ]
  },
  {
   "cell_type": "code",
   "execution_count": 0,
   "metadata": {
    "application/vnd.databricks.v1+cell": {
     "cellMetadata": {
      "byteLimit": 2048000,
      "rowLimit": 10000
     },
     "inputWidgets": {},
     "nuid": "5744f477-001b-4ce6-bcd9-156618342144",
     "showTitle": false,
     "tableResultSettingsMap": {},
     "title": ""
    }
   },
   "outputs": [],
   "source": [
    "%sql\n",
    "select count(*) from samples.tpch.customer\n",
    "25000, 25000"
   ]
  },
  {
   "cell_type": "code",
   "execution_count": 0,
   "metadata": {
    "application/vnd.databricks.v1+cell": {
     "cellMetadata": {
      "byteLimit": 2048000,
      "rowLimit": 10000
     },
     "inputWidgets": {},
     "nuid": "ea9c7392-a13e-46cd-8dfc-1a434906fa70",
     "showTitle": false,
     "tableResultSettingsMap": {},
     "title": ""
    }
   },
   "outputs": [],
   "source": [
    "%sql\n",
    "select o_orderkey,\n",
    "o_orderstatus,\n",
    "o_orderdate,\n",
    "o_totalprice as current_price,\n",
    "lag(o_totalprice) over (order by o_orderdate asc) previous_price,\n",
    "lead(o_totalprice) over (order by o_orderdate asc) next_price\n",
    " from samples.tpch.orders"
   ]
  }
 ],
 "metadata": {
  "application/vnd.databricks.v1+notebook": {
   "computePreferences": null,
   "dashboards": [],
   "environmentMetadata": {
    "base_environment": "",
    "environment_version": "2"
   },
   "language": "python",
   "notebookMetadata": {
    "pythonIndentUnit": 4
   },
   "notebookName": "Windows Functions",
   "widgets": {}
  },
  "language_info": {
   "name": "python"
  }
 },
 "nbformat": 4,
 "nbformat_minor": 0
}
