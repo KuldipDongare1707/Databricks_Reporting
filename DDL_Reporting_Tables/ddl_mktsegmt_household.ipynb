{
 "cells": [
  {
   "cell_type": "code",
   "execution_count": 0,
   "metadata": {
    "application/vnd.databricks.v1+cell": {
     "cellMetadata": {
      "byteLimit": 2048000,
      "rowLimit": 10000
     },
     "inputWidgets": {},
     "nuid": "0b155ece-171e-47d6-b9a8-6024a9f700d0",
     "showTitle": false,
     "tableResultSettingsMap": {},
     "title": ""
    }
   },
   "outputs": [],
   "source": [
    "%sql\n",
    "Create or replace table reporting.mktsegment_household (\n",
    "  Customer_Name STRING COMMENT 'Name of Customer',\n",
    "Market_Segment STRING COMMENT 'Market Segment of Customer',\n",
    "Nation_Name STRING COMMENT 'Nation of Customer',\n",
    "Region_Name STRING COMMENT 'Region of Customer',\n",
    "Order_Status STRING COMMENT 'Order Status of Customer',\n",
    "Total_Price DECIMAL(18,5) COMMENT 'Total Price of Customer',\n",
    "Order_Date TIMESTAMP COMMENT 'Date of Order',\n",
    "Order_Priority STRING COMMENT 'Priority of Order'\n",
    "\n",
    ")"
   ]
  }
 ],
 "metadata": {
  "application/vnd.databricks.v1+notebook": {
   "computePreferences": null,
   "dashboards": [],
   "environmentMetadata": {
    "base_environment": "",
    "environment_version": "2"
   },
   "language": "python",
   "notebookMetadata": {
    "pythonIndentUnit": 4
   },
   "notebookName": "ddl_mktsegmt_household",
   "widgets": {}
  },
  "language_info": {
   "name": "python"
  }
 },
 "nbformat": 4,
 "nbformat_minor": 0
}
